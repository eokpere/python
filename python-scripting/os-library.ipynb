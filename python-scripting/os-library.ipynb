{
 "cells": [
  {
   "cell_type": "code",
   "execution_count": 3,
   "metadata": {},
   "outputs": [
    {
     "name": "stdout",
     "output_type": "stream",
     "text": [
      "c:\\Users\\User\\Desktop\\python-projects\\python-scripting\n"
     ]
    }
   ],
   "source": [
    "#import the os(operating sys) library\n",
    "import os  \n",
    "\n",
    "#2 most common function of the os library\n",
    "def current_directory():\n",
    "    cwd=os.getcwd()     #a variable\n",
    "    print(cwd)\n",
    "\n",
    "current_directory()"
   ]
  },
  {
   "cell_type": "code",
   "execution_count": 1,
   "metadata": {},
   "outputs": [
    {
     "name": "stdout",
     "output_type": "stream",
     "text": [
      "c:\\Users\\User\\Desktop\\python-projects\\python-scripting\\os-libraries.ipynb\n"
     ]
    }
   ],
   "source": [
    "#how to retrieve the path of a particular file\n",
    "def file_path(filename):\n",
    "    path=os.path.abspath((filename))\n",
    "    print(path)\n",
    "\n",
    "filename=\"os-libraries.ipynb\"\n",
    "file_path(filename)\n"
   ]
  },
  {
   "cell_type": "code",
   "execution_count": 3,
   "metadata": {},
   "outputs": [
    {
     "name": "stdout",
     "output_type": "stream",
     "text": [
      "os-libraries.ipynb\n"
     ]
    }
   ],
   "source": [
    "def file_path(filename):\n",
    "    path=os.path.relpath((filename))\n",
    "    print(path)\n",
    "\n",
    "filename=\"os-libraries.ipynb\"\n",
    "file_path(filename)"
   ]
  },
  {
   "cell_type": "code",
   "execution_count": null,
   "metadata": {},
   "outputs": [],
   "source": []
  }
 ],
 "metadata": {
  "kernelspec": {
   "display_name": "Python 3",
   "language": "python",
   "name": "python3"
  },
  "language_info": {
   "codemirror_mode": {
    "name": "ipython",
    "version": 3
   },
   "file_extension": ".py",
   "mimetype": "text/x-python",
   "name": "python",
   "nbconvert_exporter": "python",
   "pygments_lexer": "ipython3",
   "version": "3.10.5 (tags/v3.10.5:f377153, Jun  6 2022, 16:14:13) [MSC v.1929 64 bit (AMD64)]"
  },
  "orig_nbformat": 4,
  "vscode": {
   "interpreter": {
    "hash": "afb734500600fd355917ca529030176ea0ca205570884b88f2f6f7d791fd3fbe"
   }
  }
 },
 "nbformat": 4,
 "nbformat_minor": 2
}
