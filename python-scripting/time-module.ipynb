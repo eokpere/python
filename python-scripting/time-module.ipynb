{
 "cells": [
  {
   "cell_type": "code",
   "execution_count": 1,
   "metadata": {},
   "outputs": [
    {
     "name": "stdout",
     "output_type": "stream",
     "text": [
      "1672359191.5660021\n",
      "time.struct_time(tm_year=2022, tm_mon=12, tm_mday=29, tm_hour=19, tm_min=13, tm_sec=11, tm_wday=3, tm_yday=363, tm_isdst=0)\n",
      "2022\n",
      "Thu Dec 29 19:13:11 2022\n"
     ]
    }
   ],
   "source": [
    "import time\n",
    "\n",
    "epc=time.time()   #to get the no of secs that have past since jan 1 1970\n",
    "print(epc)\n",
    "localtime=time.localtime(epc)     #to make more sence\n",
    "print(localtime)\n",
    "print(localtime.tm_year)     #to extract just the year\n",
    "\n",
    "print(time.ctime(epc)) # to get it in a more formatted way"
   ]
  },
  {
   "cell_type": "code",
   "execution_count": null,
   "metadata": {},
   "outputs": [],
   "source": []
  }
 ],
 "metadata": {
  "kernelspec": {
   "display_name": "Python 3",
   "language": "python",
   "name": "python3"
  },
  "language_info": {
   "codemirror_mode": {
    "name": "ipython",
    "version": 3
   },
   "file_extension": ".py",
   "mimetype": "text/x-python",
   "name": "python",
   "nbconvert_exporter": "python",
   "pygments_lexer": "ipython3",
   "version": "3.10.5"
  },
  "orig_nbformat": 4,
  "vscode": {
   "interpreter": {
    "hash": "afb734500600fd355917ca529030176ea0ca205570884b88f2f6f7d791fd3fbe"
   }
  }
 },
 "nbformat": 4,
 "nbformat_minor": 2
}
