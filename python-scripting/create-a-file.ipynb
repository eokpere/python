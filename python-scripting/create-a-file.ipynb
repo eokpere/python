{
 "cells": [
  {
   "cell_type": "code",
   "execution_count": 1,
   "metadata": {},
   "outputs": [
    {
     "name": "stdout",
     "output_type": "stream",
     "text": [
      "File created\n"
     ]
    }
   ],
   "source": [
    "#to create a file we need to import path from os library\n",
    "from os import path\n",
    "\n",
    "def createFile(dest):\n",
    "    if not (path.isfile(dest)):\n",
    "        f=open(dest, 'w')\n",
    "        f.write(\"welcome to pythn scripting\")\n",
    "        f.close()\n",
    "\n",
    "dest=\"C:\\\\Users\\\\User\\\\Desktop\\\\python-projects\\\\python-scripting\\\\email.txt\"\n",
    "\n",
    "createFile(dest)\n",
    "\n",
    "print(\"File created\")"
   ]
  }
 ],
 "metadata": {
  "kernelspec": {
   "display_name": "Python 3",
   "language": "python",
   "name": "python3"
  },
  "language_info": {
   "codemirror_mode": {
    "name": "ipython",
    "version": 3
   },
   "file_extension": ".py",
   "mimetype": "text/x-python",
   "name": "python",
   "nbconvert_exporter": "python",
   "pygments_lexer": "ipython3",
   "version": "3.10.5"
  },
  "orig_nbformat": 4,
  "vscode": {
   "interpreter": {
    "hash": "afb734500600fd355917ca529030176ea0ca205570884b88f2f6f7d791fd3fbe"
   }
  }
 },
 "nbformat": 4,
 "nbformat_minor": 2
}
