{
 "cells": [
  {
   "cell_type": "code",
   "execution_count": null,
   "metadata": {},
   "outputs": [],
   "source": [
    "#to create a file we need to import path from os library\n",
    "from os import path\n",
    "\n",
    "def createFile(dest):\n",
    "    if not (path.isfile(dest)):\n",
    "        f=open(dest, 'w')\n",
    "        f.write(\"welcome to pythn scripting\")\n",
    "        f.close()\n",
    "\n",
    "dest=\"C:\\\\Users\\\\User\\\\Desktop\\\\python-projects\\\\python-scripting\\\\email.txt\"\n",
    "\n",
    "createFile(dest)\n",
    "\n",
    "print(\"File created\")"
   ]
  }
 ],
 "metadata": {
  "kernelspec": {
   "display_name": "Python 3",
   "language": "python",
   "name": "python3"
  },
  "language_info": {
   "name": "python",
   "version": "3.10.5 (tags/v3.10.5:f377153, Jun  6 2022, 16:14:13) [MSC v.1929 64 bit (AMD64)]"
  },
  "orig_nbformat": 4,
  "vscode": {
   "interpreter": {
    "hash": "afb734500600fd355917ca529030176ea0ca205570884b88f2f6f7d791fd3fbe"
   }
  }
 },
 "nbformat": 4,
 "nbformat_minor": 2
}
