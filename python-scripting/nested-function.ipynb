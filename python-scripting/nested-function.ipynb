{
 "cells": [
  {
   "cell_type": "code",
   "execution_count": null,
   "metadata": {},
   "outputs": [
    {
     "name": "stdout",
     "output_type": "stream",
     "text": [
      "11\n"
     ]
    }
   ],
   "source": [
    "def func1():\n",
    "    x=10\n",
    "    def func2(x):\n",
    "        return x+1\n",
    "    return func2(x)\n",
    "\n",
    "result=func1()\n",
    "print(result)"
   ]
  },
  {
   "cell_type": "code",
   "execution_count": null,
   "metadata": {},
   "outputs": [],
   "source": [
    "# where u need to decide which function need to be executed at runtime"
   ]
  },
  {
   "cell_type": "code",
   "execution_count": 5,
   "metadata": {},
   "outputs": [
    {
     "name": "stdout",
     "output_type": "stream",
     "text": [
      "this is the first function\n",
      "this is the nested function\n",
      "this is the outer function\n"
     ]
    }
   ],
   "source": [
    "def func1(called_func):        #def func1()\n",
    "    print(\"this is the first function\")\n",
    "    def nested_func1(called_func):      #def nested_func1(called_func)\n",
    "        print(\"this is the nested function\")\n",
    "        called_func()\n",
    "    return nested_func1(called_func)\n",
    "\n",
    "def outer_func():\n",
    "    print(\"this is the outer function\")\n",
    "\n",
    "obj=func1(outer_func)       #we are passing the function as an object"
   ]
  },
  {
   "cell_type": "code",
   "execution_count": null,
   "metadata": {},
   "outputs": [],
   "source": [
    "def func1(called_func):        #def func1()\n",
    "    print(\"this is the first function\")\n",
    "    def nested_func1(called_func):      #def nested_func1(called_func)\n",
    "        print(\"this is the nested function\")\n",
    "        called_func()\n",
    "    return nested_func1(called_func)\n",
    "\n",
    "@func1   #allow you to change the functionality of a operator\n",
    "def outer_func():\n",
    "    print(\"this is the outer function\")\n",
    "\n",
    "obj=func1(outer_func) "
   ]
  },
  {
   "cell_type": "code",
   "execution_count": 6,
   "metadata": {},
   "outputs": [
    {
     "name": "stdout",
     "output_type": "stream",
     "text": [
      "5\n",
      "10\n"
     ]
    }
   ],
   "source": [
    "#create classes at runtime\n",
    "\n",
    "#factory\n",
    "B=type(\"BaseClass\", (object,),{})\n",
    "C1=type(\"C1\",(B,),{'val':5})\n",
    "C2=type(\"C2\",(B,),{'val':10})\n",
    "\n",
    "def ClassCreator(bool):\n",
    "    if bool:\n",
    "        return C1()\n",
    "    else:\n",
    "        return C2()\n",
    "\n",
    "print(ClassCreator(True).val)\n",
    "print(ClassCreator(False).val)"
   ]
  },
  {
   "cell_type": "code",
   "execution_count": null,
   "metadata": {},
   "outputs": [],
   "source": []
  }
 ],
 "metadata": {
  "kernelspec": {
   "display_name": "Python 3",
   "language": "python",
   "name": "python3"
  },
  "language_info": {
   "codemirror_mode": {
    "name": "ipython",
    "version": 3
   },
   "file_extension": ".py",
   "mimetype": "text/x-python",
   "name": "python",
   "nbconvert_exporter": "python",
   "pygments_lexer": "ipython3",
   "version": "3.10.5 (tags/v3.10.5:f377153, Jun  6 2022, 16:14:13) [MSC v.1929 64 bit (AMD64)]"
  },
  "orig_nbformat": 4,
  "vscode": {
   "interpreter": {
    "hash": "afb734500600fd355917ca529030176ea0ca205570884b88f2f6f7d791fd3fbe"
   }
  }
 },
 "nbformat": 4,
 "nbformat_minor": 2
}
