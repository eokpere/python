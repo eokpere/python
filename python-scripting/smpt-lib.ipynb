{
 "cells": [
  {
   "cell_type": "code",
   "execution_count": 7,
   "metadata": {},
   "outputs": [
    {
     "ename": "SMTPAuthenticationError",
     "evalue": "(535, b'5.7.8 Username and Password not accepted. Learn more at\\n5.7.8  https://support.google.com/mail/?p=BadCredentials u24-20020a02b1d8000000b0038a5b48f3d4sm6269111jah.3 - gsmtp')",
     "output_type": "error",
     "traceback": [
      "\u001b[1;31m---------------------------------------------------------------------------\u001b[0m",
      "\u001b[1;31mSMTPAuthenticationError\u001b[0m                   Traceback (most recent call last)",
      "Cell \u001b[1;32mIn[7], line 8\u001b[0m\n\u001b[0;32m      6\u001b[0m \u001b[39m#to put our smtp in a tls mode\u001b[39;00m\n\u001b[0;32m      7\u001b[0m smtObj\u001b[39m.\u001b[39mstarttls()\n\u001b[1;32m----> 8\u001b[0m smtObj\u001b[39m.\u001b[39;49mlogin(\u001b[39m'\u001b[39;49m\u001b[39mevetechsolution1@gmail.com\u001b[39;49m\u001b[39m'\u001b[39;49m,\u001b[39m'\u001b[39;49m\u001b[39mPassword123@\u001b[39;49m\u001b[39m'\u001b[39;49m )\n\u001b[0;32m      9\u001b[0m smtObj\u001b[39m.\u001b[39msendmail(\u001b[39m\"\u001b[39m\u001b[39mevetechsolution1@gmail.com\u001b[39m\u001b[39m\"\u001b[39m, \u001b[39m\"\u001b[39m\u001b[39mevelyninyinbor@gmail.com\u001b[39m\u001b[39m\"\u001b[39m, \u001b[39m'\u001b[39m\u001b[39mSubject:SMTP check. \u001b[39m\u001b[39m\\n\u001b[39;00m\u001b[39m This is a test email\u001b[39m\u001b[39m'\u001b[39m)\n\u001b[0;32m     10\u001b[0m smtObj\u001b[39m.\u001b[39mquit()\n",
      "File \u001b[1;32mc:\\Users\\User\\AppData\\Local\\Programs\\Python\\Python310\\lib\\smtplib.py:750\u001b[0m, in \u001b[0;36mSMTP.login\u001b[1;34m(self, user, password, initial_response_ok)\u001b[0m\n\u001b[0;32m    747\u001b[0m         last_exception \u001b[39m=\u001b[39m e\n\u001b[0;32m    749\u001b[0m \u001b[39m# We could not login successfully.  Return result of last attempt.\u001b[39;00m\n\u001b[1;32m--> 750\u001b[0m \u001b[39mraise\u001b[39;00m last_exception\n",
      "File \u001b[1;32mc:\\Users\\User\\AppData\\Local\\Programs\\Python\\Python310\\lib\\smtplib.py:739\u001b[0m, in \u001b[0;36mSMTP.login\u001b[1;34m(self, user, password, initial_response_ok)\u001b[0m\n\u001b[0;32m    737\u001b[0m method_name \u001b[39m=\u001b[39m \u001b[39m'\u001b[39m\u001b[39mauth_\u001b[39m\u001b[39m'\u001b[39m \u001b[39m+\u001b[39m authmethod\u001b[39m.\u001b[39mlower()\u001b[39m.\u001b[39mreplace(\u001b[39m'\u001b[39m\u001b[39m-\u001b[39m\u001b[39m'\u001b[39m, \u001b[39m'\u001b[39m\u001b[39m_\u001b[39m\u001b[39m'\u001b[39m)\n\u001b[0;32m    738\u001b[0m \u001b[39mtry\u001b[39;00m:\n\u001b[1;32m--> 739\u001b[0m     (code, resp) \u001b[39m=\u001b[39m \u001b[39mself\u001b[39;49m\u001b[39m.\u001b[39;49mauth(\n\u001b[0;32m    740\u001b[0m         authmethod, \u001b[39mgetattr\u001b[39;49m(\u001b[39mself\u001b[39;49m, method_name),\n\u001b[0;32m    741\u001b[0m         initial_response_ok\u001b[39m=\u001b[39;49minitial_response_ok)\n\u001b[0;32m    742\u001b[0m     \u001b[39m# 235 == 'Authentication successful'\u001b[39;00m\n\u001b[0;32m    743\u001b[0m     \u001b[39m# 503 == 'Error: already authenticated'\u001b[39;00m\n\u001b[0;32m    744\u001b[0m     \u001b[39mif\u001b[39;00m code \u001b[39min\u001b[39;00m (\u001b[39m235\u001b[39m, \u001b[39m503\u001b[39m):\n",
      "File \u001b[1;32mc:\\Users\\User\\AppData\\Local\\Programs\\Python\\Python310\\lib\\smtplib.py:662\u001b[0m, in \u001b[0;36mSMTP.auth\u001b[1;34m(self, mechanism, authobject, initial_response_ok)\u001b[0m\n\u001b[0;32m    660\u001b[0m \u001b[39mif\u001b[39;00m code \u001b[39min\u001b[39;00m (\u001b[39m235\u001b[39m, \u001b[39m503\u001b[39m):\n\u001b[0;32m    661\u001b[0m     \u001b[39mreturn\u001b[39;00m (code, resp)\n\u001b[1;32m--> 662\u001b[0m \u001b[39mraise\u001b[39;00m SMTPAuthenticationError(code, resp)\n",
      "\u001b[1;31mSMTPAuthenticationError\u001b[0m: (535, b'5.7.8 Username and Password not accepted. Learn more at\\n5.7.8  https://support.google.com/mail/?p=BadCredentials u24-20020a02b1d8000000b0038a5b48f3d4sm6269111jah.3 - gsmtp')"
     ]
    }
   ],
   "source": [
    "import smtplib\n",
    "\n",
    "#set a domain and a port\n",
    "smtObj=smtplib.SMTP('smtp.gmail.com', 587)\n",
    "smtObj.ehlo()\n",
    "#to put our smtp in a tls mode\n",
    "smtObj.starttls()\n",
    "smtObj.login('evetechsolution1@gmail.com','Password123@' )\n",
    "smtObj.sendmail(\"evetechsolution1@gmail.com\", \"evelyninyinbor@gmail.com\", 'Subject:SMTP check. \\n This is a test email')\n",
    "smtObj.quit()"
   ]
  },
  {
   "cell_type": "code",
   "execution_count": 8,
   "metadata": {},
   "outputs": [
    {
     "data": {
      "text/plain": [
       "(221,\n",
       " b'2.0.0 closing connection x22-20020a0566380cb600b0038a760ab9a4sm6447144jad.161 - gsmtp')"
      ]
     },
     "execution_count": 8,
     "metadata": {},
     "output_type": "execute_result"
    }
   ],
   "source": [
    "import smtplib\n",
    "\n",
    "#set a domain and a port\n",
    "smtObj=smtplib.SMTP('smtp.gmail.com', 587)\n",
    "smtObj.ehlo()\n",
    "#to put our smtp in a tls mode\n",
    "smtObj.starttls()\n",
    "smtObj.login('evelyninyinbor@gmail.com','urpassword' )\n",
    "smtObj.sendmail(\"evelyninyinbor@gmail.com\", \"evetechsolution1@gmail.com\", 'Subject:SMTP check. \\n This is a test email')\n",
    "smtObj.quit()"
   ]
  },
  {
   "cell_type": "code",
   "execution_count": 10,
   "metadata": {},
   "outputs": [
    {
     "name": "stdout",
     "output_type": "stream",
     "text": [
      "10\n",
      "20\n",
      "30\n",
      "40\n"
     ]
    }
   ],
   "source": [
    "def func1 (*args):\n",
    "    for i in args:         #one by one it will print out the values in args\n",
    "        print(i)\n",
    "\n",
    "func1(10,20,30,40)"
   ]
  },
  {
   "cell_type": "code",
   "execution_count": 12,
   "metadata": {},
   "outputs": [
    {
     "name": "stdout",
     "output_type": "stream",
     "text": [
      "10\n",
      "20\n",
      "30\n",
      "40\n",
      "50\n",
      "26\n",
      "abcdsey\n"
     ]
    }
   ],
   "source": [
    "def func1 (*args,**kwargs):\n",
    "    for i in args:         #one by one it will print out the values in args\n",
    "        print(i)\n",
    "\n",
    "func1(10,20,30,40,50,26,'abcdsey')"
   ]
  },
  {
   "cell_type": "code",
   "execution_count": 13,
   "metadata": {},
   "outputs": [
    {
     "name": "stdout",
     "output_type": "stream",
     "text": [
      "('a', 10)\n",
      "('b', 20)\n",
      "('c', 30)\n",
      "('d', 40)\n"
     ]
    }
   ],
   "source": [
    "def func1 (*args, **kwargs):\n",
    "    for i in kwargs.items():         #one by one it will print out the values in args\n",
    "        print(i)\n",
    "\n",
    "func1(a=10,b=20,c=30,d=40)"
   ]
  },
  {
   "cell_type": "code",
   "execution_count": null,
   "metadata": {},
   "outputs": [],
   "source": []
  }
 ],
 "metadata": {
  "kernelspec": {
   "display_name": "Python 3",
   "language": "python",
   "name": "python3"
  },
  "language_info": {
   "codemirror_mode": {
    "name": "ipython",
    "version": 3
   },
   "file_extension": ".py",
   "mimetype": "text/x-python",
   "name": "python",
   "nbconvert_exporter": "python",
   "pygments_lexer": "ipython3",
   "version": "3.10.5"
  },
  "orig_nbformat": 4,
  "vscode": {
   "interpreter": {
    "hash": "afb734500600fd355917ca529030176ea0ca205570884b88f2f6f7d791fd3fbe"
   }
  }
 },
 "nbformat": 4,
 "nbformat_minor": 2
}
