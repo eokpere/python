{
 "cells": [
  {
   "cell_type": "code",
   "execution_count": 94,
   "metadata": {},
   "outputs": [],
   "source": [
    "#first import the modules u need for the project\n",
    "import boto3\n",
    "from datetime import datetime"
   ]
  },
  {
   "cell_type": "code",
   "execution_count": 95,
   "metadata": {},
   "outputs": [],
   "source": [
    "#create a variable\n",
    "today = datetime.today()"
   ]
  },
  {
   "cell_type": "code",
   "execution_count": 96,
   "metadata": {},
   "outputs": [
    {
     "data": {
      "text/plain": [
       "datetime.datetime(2022, 12, 26, 23, 12, 0, 615732)"
      ]
     },
     "execution_count": 96,
     "metadata": {},
     "output_type": "execute_result"
    }
   ],
   "source": [
    "#call the variable\n",
    "today"
   ]
  },
  {
   "cell_type": "code",
   "execution_count": 97,
   "metadata": {},
   "outputs": [],
   "source": [
    "#format the date, create another variable    we are to format into yr mth and day\n",
    "todays_date = today.strftime(\"%Y%m%d\")\n"
   ]
  },
  {
   "cell_type": "code",
   "execution_count": 98,
   "metadata": {},
   "outputs": [
    {
     "data": {
      "text/plain": [
       "'20221226'"
      ]
     },
     "execution_count": 98,
     "metadata": {},
     "output_type": "execute_result"
    }
   ],
   "source": [
    "#call todays date\n",
    "todays_date"
   ]
  },
  {
   "cell_type": "code",
   "execution_count": 99,
   "metadata": {},
   "outputs": [],
   "source": [
    "#connect with ur s3 bucket. go to google search box type boto3 aws s3, go to the doc, click on client and get the syntax\n",
    "#this syntax will create a variable to call the boto3 s3 client\n",
    "\n",
    "s3_client = boto3.client('s3')"
   ]
  },
  {
   "cell_type": "code",
   "execution_count": 100,
   "metadata": {},
   "outputs": [],
   "source": [
    "#create a variable to call the bucket\n",
    "bucket_name = \"evetechsolution-organise-s3-objects\""
   ]
  },
  {
   "cell_type": "code",
   "execution_count": 101,
   "metadata": {},
   "outputs": [],
   "source": [
    "#syntax to list all the objects we have in our s3 bucket\n",
    "list_objects_response = s3_client.list_objects_v2(Bucket=bucket_name)"
   ]
  },
  {
   "cell_type": "code",
   "execution_count": 102,
   "metadata": {},
   "outputs": [
    {
     "data": {
      "text/plain": [
       "{'ResponseMetadata': {'RequestId': 'TF87BM9TVXZWN766',\n",
       "  'HostId': '0IK/5ock7J8RcNq1eNXRkcHfPGyRD48NWxb03iPbp9YGaGnb/9ZtUY1e+7z4IP0SlG8wrHKe5XI=',\n",
       "  'HTTPStatusCode': 200,\n",
       "  'HTTPHeaders': {'x-amz-id-2': '0IK/5ock7J8RcNq1eNXRkcHfPGyRD48NWxb03iPbp9YGaGnb/9ZtUY1e+7z4IP0SlG8wrHKe5XI=',\n",
       "   'x-amz-request-id': 'TF87BM9TVXZWN766',\n",
       "   'date': 'Tue, 27 Dec 2022 04:11:01 GMT',\n",
       "   'x-amz-bucket-region': 'ca-central-1',\n",
       "   'content-type': 'application/xml',\n",
       "   'transfer-encoding': 'chunked',\n",
       "   'server': 'AmazonS3'},\n",
       "  'RetryAttempts': 1},\n",
       " 'IsTruncated': False,\n",
       " 'Contents': [{'Key': '20221226/',\n",
       "   'LastModified': datetime.datetime(2022, 12, 27, 4, 10, tzinfo=tzutc()),\n",
       "   'ETag': '\"d41d8cd98f00b204e9800998ecf8427e\"',\n",
       "   'Size': 0,\n",
       "   'StorageClass': 'STANDARD'},\n",
       "  {'Key': 'IT SUPPORT.docx',\n",
       "   'LastModified': datetime.datetime(2022, 12, 27, 4, 9, 34, tzinfo=tzutc()),\n",
       "   'ETag': '\"0ac64b10f96f824a6c321a4f3d5ad305\"',\n",
       "   'Size': 3140461,\n",
       "   'StorageClass': 'STANDARD'},\n",
       "  {'Key': 'IT Security.docx',\n",
       "   'LastModified': datetime.datetime(2022, 12, 27, 4, 9, 31, tzinfo=tzutc()),\n",
       "   'ETag': '\"870914d44d73df2a8a9ed65192f71fc9\"',\n",
       "   'Size': 1594637,\n",
       "   'StorageClass': 'STANDARD'},\n",
       "  {'Key': 'Introduction to operating sys.docx',\n",
       "   'LastModified': datetime.datetime(2022, 12, 27, 4, 9, 38, tzinfo=tzutc()),\n",
       "   'ETag': '\"628f4f42260c6cc2d616ebe4d30c35e8\"',\n",
       "   'Size': 4401533,\n",
       "   'StorageClass': 'STANDARD'},\n",
       "  {'Key': 'job search plan template.xlsx',\n",
       "   'LastModified': datetime.datetime(2022, 12, 27, 4, 9, 34, tzinfo=tzutc()),\n",
       "   'ETag': '\"d1d42823d8f3289ae70168ebb56cbe0c\"',\n",
       "   'Size': 12433,\n",
       "   'StorageClass': 'STANDARD'}],\n",
       " 'Name': 'evetechsolution-organise-s3-objects',\n",
       " 'Prefix': '',\n",
       " 'MaxKeys': 1000,\n",
       " 'EncodingType': 'url',\n",
       " 'KeyCount': 5}"
      ]
     },
     "execution_count": 102,
     "metadata": {},
     "output_type": "execute_result"
    }
   ],
   "source": [
    "list_objects_response"
   ]
  },
  {
   "cell_type": "code",
   "execution_count": 103,
   "metadata": {},
   "outputs": [],
   "source": [
    "# we'll write a code to get only the content part. we'll store the value of content in another variable\n",
    "\n",
    "get_contents = list_objects_response.get(\"Contents\")"
   ]
  },
  {
   "cell_type": "code",
   "execution_count": 104,
   "metadata": {},
   "outputs": [
    {
     "data": {
      "text/plain": [
       "[{'Key': '20221226/',\n",
       "  'LastModified': datetime.datetime(2022, 12, 27, 4, 10, tzinfo=tzutc()),\n",
       "  'ETag': '\"d41d8cd98f00b204e9800998ecf8427e\"',\n",
       "  'Size': 0,\n",
       "  'StorageClass': 'STANDARD'},\n",
       " {'Key': 'IT SUPPORT.docx',\n",
       "  'LastModified': datetime.datetime(2022, 12, 27, 4, 9, 34, tzinfo=tzutc()),\n",
       "  'ETag': '\"0ac64b10f96f824a6c321a4f3d5ad305\"',\n",
       "  'Size': 3140461,\n",
       "  'StorageClass': 'STANDARD'},\n",
       " {'Key': 'IT Security.docx',\n",
       "  'LastModified': datetime.datetime(2022, 12, 27, 4, 9, 31, tzinfo=tzutc()),\n",
       "  'ETag': '\"870914d44d73df2a8a9ed65192f71fc9\"',\n",
       "  'Size': 1594637,\n",
       "  'StorageClass': 'STANDARD'},\n",
       " {'Key': 'Introduction to operating sys.docx',\n",
       "  'LastModified': datetime.datetime(2022, 12, 27, 4, 9, 38, tzinfo=tzutc()),\n",
       "  'ETag': '\"628f4f42260c6cc2d616ebe4d30c35e8\"',\n",
       "  'Size': 4401533,\n",
       "  'StorageClass': 'STANDARD'},\n",
       " {'Key': 'job search plan template.xlsx',\n",
       "  'LastModified': datetime.datetime(2022, 12, 27, 4, 9, 34, tzinfo=tzutc()),\n",
       "  'ETag': '\"d1d42823d8f3289ae70168ebb56cbe0c\"',\n",
       "  'Size': 12433,\n",
       "  'StorageClass': 'STANDARD'}]"
      ]
     },
     "execution_count": 104,
     "metadata": {},
     "output_type": "execute_result"
    }
   ],
   "source": [
    "get_contents"
   ]
  },
  {
   "cell_type": "code",
   "execution_count": 105,
   "metadata": {},
   "outputs": [],
   "source": [
    "# to get the objects and file names\n",
    "get_all_s3_object_and_folder_names = []    #this is an empty list\n",
    "# write a for loop to get the items\n",
    "for item in get_contents:\n",
    "    s3_object_name = item.get(\"Key\")\n",
    "\n",
    "    get_all_s3_object_and_folder_names.append(s3_object_name)  #code to add all the value of key to our empty list"
   ]
  },
  {
   "cell_type": "code",
   "execution_count": 106,
   "metadata": {},
   "outputs": [
    {
     "data": {
      "text/plain": [
       "['20221226/',\n",
       " 'IT SUPPORT.docx',\n",
       " 'IT Security.docx',\n",
       " 'Introduction to operating sys.docx',\n",
       " 'job search plan template.xlsx']"
      ]
     },
     "execution_count": 106,
     "metadata": {},
     "output_type": "execute_result"
    }
   ],
   "source": [
    "get_all_s3_object_and_folder_names"
   ]
  },
  {
   "cell_type": "code",
   "execution_count": 107,
   "metadata": {},
   "outputs": [],
   "source": [
    "#create a folder for todays date \n",
    "#to create a folder it needs to start with a forward slash(\"/)\n",
    "directory_name = todays_date + \"/\""
   ]
  },
  {
   "cell_type": "code",
   "execution_count": 108,
   "metadata": {},
   "outputs": [
    {
     "data": {
      "text/plain": [
       "'20221226/'"
      ]
     },
     "execution_count": 108,
     "metadata": {},
     "output_type": "execute_result"
    }
   ],
   "source": [
    "directory_name"
   ]
  },
  {
   "cell_type": "code",
   "execution_count": 109,
   "metadata": {},
   "outputs": [],
   "source": [
    "#create a folder for todays date in the s3 bucket\n",
    "if directory_name not in get_all_s3_object_and_folder_names:\n",
    "    s3_client.put_object(Bucket=bucket_name, Key=(directory_name))"
   ]
  },
  {
   "cell_type": "code",
   "execution_count": 110,
   "metadata": {},
   "outputs": [],
   "source": [
    "for item in get_contents:\n",
    "    object_creation_date = item.get(\"LastModified\").strftime(\"%Y%m%d\") + \"/\"\n",
    "    object_name = item.get(\"Key\")\n",
    "\n",
    "    if object_creation_date == directory_name and \"/\" not in object_name:     # the 2 conditions we want to check before copy objs in the s3 bucket into the folder\n",
    "        s3_client.copy_object(Bucket=bucket_name, CopySource=bucket_name+\"/\"+object_name, Key=directory_name+object_name)\n",
    "        s3_client.delete_object(Bucket=bucket_name, Key=object_name)"
   ]
  },
  {
   "cell_type": "code",
   "execution_count": null,
   "metadata": {},
   "outputs": [],
   "source": []
  }
 ],
 "metadata": {
  "kernelspec": {
   "display_name": "Python 3",
   "language": "python",
   "name": "python3"
  },
  "language_info": {
   "codemirror_mode": {
    "name": "ipython",
    "version": 3
   },
   "file_extension": ".py",
   "mimetype": "text/x-python",
   "name": "python",
   "nbconvert_exporter": "python",
   "pygments_lexer": "ipython3",
   "version": "3.10.5"
  },
  "orig_nbformat": 4,
  "vscode": {
   "interpreter": {
    "hash": "afb734500600fd355917ca529030176ea0ca205570884b88f2f6f7d791fd3fbe"
   }
  }
 },
 "nbformat": 4,
 "nbformat_minor": 2
}
